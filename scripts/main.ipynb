{
 "cells": [
  {
   "cell_type": "code",
   "execution_count": 23,
   "id": "06e81b73",
   "metadata": {},
   "outputs": [],
   "source": [
    "import requests\n",
    "from bs4 import BeautifulSoup\n",
    "import json"
   ]
  },
  {
   "cell_type": "code",
   "execution_count": 15,
   "id": "8d8fcfe7",
   "metadata": {},
   "outputs": [],
   "source": [
    "def get_response(url: str, browser:str):\n",
    "    url = url\n",
    "    headers = {\"User-Agent\": f\"{browser}/5.0\"}\n",
    "    response = requests.get(url, headers=headers)\n",
    "    return response"
   ]
  },
  {
   "cell_type": "code",
   "execution_count": 47,
   "id": "3d56467d",
   "metadata": {},
   "outputs": [],
   "source": [
    "def get_price(product: str):\n",
    "    try:\n",
    "        response = get_response(f\"https://www.fallenstore.com.br/{product}\", \"Mozilla\")\n",
    "        \n",
    "        if response.status_code == 200:\n",
    "            soup = BeautifulSoup(response.text, 'html.parser')\n",
    "            script = soup.find('script', type='application/ld+json')\n",
    "\n",
    "        if script:\n",
    "            json_data = json.loads(script.string)\n",
    "            offers = json_data['offers']['offers']\n",
    "            for price in offers:\n",
    "                    price = price['price']\n",
    "\n",
    "            return price\n",
    "        else: \n",
    "            print(\"Script is empty\")\n",
    "\n",
    "    except requests.RequestException as e:\n",
    "        print(f\"Erro na Request {e}\")\n",
    "\n",
    "    except Exception as e:\n",
    "        print(f\"Erro inesperado {e}\")"
   ]
  },
  {
   "cell_type": "code",
   "execution_count": 49,
   "id": "4662553f",
   "metadata": {},
   "outputs": [
    {
     "data": {
      "text/plain": [
       "159"
      ]
     },
     "execution_count": 49,
     "metadata": {},
     "output_type": "execute_result"
    }
   ],
   "source": [
    "get_price(\"mousepad-gamer-fallen-spice-candy\")"
   ]
  }
 ],
 "metadata": {
  "kernelspec": {
   "display_name": "venv",
   "language": "python",
   "name": "python3"
  },
  "language_info": {
   "codemirror_mode": {
    "name": "ipython",
    "version": 3
   },
   "file_extension": ".py",
   "mimetype": "text/x-python",
   "name": "python",
   "nbconvert_exporter": "python",
   "pygments_lexer": "ipython3",
   "version": "3.12.5"
  }
 },
 "nbformat": 4,
 "nbformat_minor": 5
}
