{
 "cells": [
  {
   "cell_type": "code",
   "execution_count": 23,
   "id": "06e81b73",
   "metadata": {},
   "outputs": [],
   "source": [
    "import requests\n",
    "from bs4 import BeautifulSoup\n",
    "import json"
   ]
  },
  {
   "cell_type": "code",
   "execution_count": 84,
   "id": "8d8fcfe7",
   "metadata": {},
   "outputs": [],
   "source": [
    "def get_response(url: str):\n",
    "    url = url\n",
    "    headers = {\"User-Agent\": f\"Mozilla/5.0\"}\n",
    "    response = requests.get(url, headers=headers)\n",
    "    return response"
   ]
  },
  {
   "cell_type": "code",
   "execution_count": 86,
   "id": "3d56467d",
   "metadata": {},
   "outputs": [],
   "source": [
    "def get_price_fallenstore(product: str):\n",
    "    try:\n",
    "        response = get_response(f\"https://www.fallenstore.com.br/{product}\")\n",
    "        \n",
    "        if response.status_code == 200:\n",
    "            soup = BeautifulSoup(response.text, 'html.parser')\n",
    "            script = soup.find('script', type='application/ld+json')\n",
    "\n",
    "        if script:\n",
    "            json_data = json.loads(script.string)\n",
    "            offers = json_data['offers']['offers']\n",
    "            for price in offers:\n",
    "                    price = price['price']\n",
    "\n",
    "            return price\n",
    "        else: \n",
    "            print(\"Script is empty\")\n",
    "\n",
    "    except requests.RequestException as e:\n",
    "        print(f\"Erro na Request {e}\")\n",
    "\n",
    "    except Exception as e:\n",
    "        print(f\"Erro inesperado {e}\")"
   ]
  },
  {
   "cell_type": "code",
   "execution_count": 107,
   "id": "76305cbc",
   "metadata": {},
   "outputs": [],
   "source": [
    "def get_price_kabumstore(product: str):\n",
    "    try:\n",
    "        response = get_response(f\"https://www.kabum.com.br/produto/{product}\")\n",
    "\n",
    "        if response.status_code == 200:\n",
    "            soup = BeautifulSoup(response.text, 'html.parser')\n",
    "            script = soup.find('script', type='application/ld+json')\n",
    "            \n",
    "            if script:\n",
    "                json_data = json.loads(script.string)\n",
    "                price  = json_data['offers']['price']\n",
    "                return price\n",
    "\n",
    "        else: \n",
    "            print(\"No script\")\n",
    "            return None\n",
    "    \n",
    "    except requests.RequestException as e:\n",
    "        print(e)"
   ]
  },
  {
   "cell_type": "code",
   "execution_count": 108,
   "id": "5e83959f",
   "metadata": {},
   "outputs": [
    {
     "name": "stdout",
     "output_type": "stream",
     "text": [
      "575.99\n",
      "499\n"
     ]
    }
   ],
   "source": [
    "price_kabum = get_price_kabumstore(\"165133/placa-mae-asus-tuf-gaming-a520m-plus-ii-amd-am4-matx-ddr4-preto-90mb17g0-m0eay0\")\n",
    "price_fallen = get_price_fallenstore(\"headset-gamer-fallen-pantera-pro-v2\")\n",
    "print(price_kabum)\n",
    "print(price_fallen)"
   ]
  }
 ],
 "metadata": {
  "kernelspec": {
   "display_name": "venv",
   "language": "python",
   "name": "python3"
  },
  "language_info": {
   "codemirror_mode": {
    "name": "ipython",
    "version": 3
   },
   "file_extension": ".py",
   "mimetype": "text/x-python",
   "name": "python",
   "nbconvert_exporter": "python",
   "pygments_lexer": "ipython3",
   "version": "3.12.5"
  }
 },
 "nbformat": 4,
 "nbformat_minor": 5
}
